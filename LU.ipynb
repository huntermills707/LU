{
 "cells": [
  {
   "cell_type": "code",
   "execution_count": 19,
   "metadata": {},
   "outputs": [
    {
     "data": {
      "text/plain": [
       "luDecompNoPiv (generic function with 1 method)"
      ]
     },
     "execution_count": 19,
     "metadata": {},
     "output_type": "execute_result"
    }
   ],
   "source": [
    "function luDecompNoPiv(A)\n",
    "    n,m = size(A)\n",
    "    for k in 1:n-1\n",
    "        A[k+1:n,k] = A[k+1:n,k]/A[k,k]\n",
    "        for i in k+1:n\n",
    "            for j in k+1:n\n",
    "                A[i,j] = A[i,j] - A[i,k]*A[k,j]\n",
    "            end\n",
    "        end\n",
    "    end\n",
    "    return A\n",
    "end"
   ]
  },
  {
   "cell_type": "code",
   "execution_count": 175,
   "metadata": {},
   "outputs": [
    {
     "data": {
      "text/plain": [
       "luDecompParPiv (generic function with 1 method)"
      ]
     },
     "execution_count": 175,
     "metadata": {},
     "output_type": "execute_result"
    }
   ],
   "source": [
    "function luDecompParPiv(A)\n",
    "    n,m = size(A)\n",
    "    p = Array(1:n)\n",
    "    for k in 1:n-1\n",
    "        \n",
    "        val,ind = findmax(A[k:n,k])\n",
    "        ind = ind + k - 1\n",
    "                \n",
    "        swap = p[k]\n",
    "        p[k] = p[ind]\n",
    "        p[ind] = swap\n",
    "        \n",
    "        swap = A[k,:]\n",
    "        A[k,:] = A[ind,:]\n",
    "        A[ind,:] = swap\n",
    "        \n",
    "        A[k+1:n,k] = A[k+1:n,k]/A[k,k]\n",
    "        for i in k+1:n\n",
    "            for j in k+1:n\n",
    "                A[i,j] = A[i,j] - A[i,k]*A[k,j]\n",
    "            end\n",
    "        end\n",
    "    end\n",
    "    return A,p\n",
    "end"
   ]
  },
  {
   "cell_type": "code",
   "execution_count": 679,
   "metadata": {
    "scrolled": true
   },
   "outputs": [
    {
     "data": {
      "text/plain": [
       "luDecompFullPiv (generic function with 1 method)"
      ]
     },
     "execution_count": 679,
     "metadata": {},
     "output_type": "execute_result"
    }
   ],
   "source": [
    "function luDecompFullPiv(A)\n",
    "    n,m = size(A)\n",
    "    p = Array(1:n)\n",
    "    q = Array(1:m)\n",
    "    for k in 1:n-1\n",
    "        \n",
    "        val,ind = findmax(A[k:n,k:n])\n",
    "        y = Int(ceil(ind / (n-k+1))) + k-1\n",
    "        x = ind % (n-k+1) + k-1\n",
    "        if x == k-1\n",
    "            x = n\n",
    "        end\n",
    "                \n",
    "        swap = p[k]\n",
    "        p[k] = p[x]\n",
    "        p[x] = swap\n",
    "        \n",
    "        swap = A[k,:]\n",
    "        A[k,:] = A[x,:]\n",
    "        A[x,:] = swap\n",
    "        \n",
    "        swap = q[k]\n",
    "        q[k] = q[y]\n",
    "        q[y] = swap\n",
    "        \n",
    "        swap = A[:,k]\n",
    "        A[:,k] = A[:,y]\n",
    "        A[:,y] = swap\n",
    "        \n",
    "        A[k+1:n,k] = A[k+1:n,k]/A[k,k]\n",
    "        for i in k+1:n\n",
    "            for j in k+1:n\n",
    "                A[i,j] = A[i,j] - A[i,k]*A[k,j]\n",
    "            end\n",
    "        end\n",
    "    end\n",
    "    return A,p,q\n",
    "end"
   ]
  },
  {
   "cell_type": "code",
   "execution_count": 684,
   "metadata": {},
   "outputs": [
    {
     "data": {
      "text/plain": [
       "([0.999999 0.00645665 … 0.478882 0.659176; 0.0450865 0.999694 … 0.252892 0.396186; … ; 0.387415 0.863623 … 0.935791 0.501763; 0.940957 -0.000451759 … 0.993693 -1.03719], [674, 146, 933, 28, 683, 196, 662, 768, 145, 223  …  545, 612, 252, 443, 501, 950, 71, 746, 749, 895], [1000, 615, 541, 337, 568, 492, 108, 293, 93, 363  …  808, 299, 15, 611, 838, 763, 979, 682, 955, 65])"
      ]
     },
     "execution_count": 684,
     "metadata": {},
     "output_type": "execute_result"
    }
   ],
   "source": [
    "A = rand(1000,1000)\n",
    "A0 = copy(A)\n",
    "A,p,q = luDecompFullPiv(A)"
   ]
  },
  {
   "cell_type": "code",
   "execution_count": 685,
   "metadata": {},
   "outputs": [],
   "source": [
    "n,m = size(A)\n",
    "L = eye(n,m)+tril(A,-1)\n",
    "U = triu(A);"
   ]
  },
  {
   "cell_type": "code",
   "execution_count": 686,
   "metadata": {},
   "outputs": [
    {
     "data": {
      "text/plain": [
       "1000×1000 Array{Float64,2}:\n",
       " 0.999999    0.00645665  0.594643    …  0.997571    0.478882    0.659176   \n",
       " 0.0450865   0.999986    0.00663822     0.936424    0.274483    0.425906   \n",
       " 0.00022069  0.938574    0.992378       0.695556    0.354999    0.357924   \n",
       " 0.115103    0.117926    0.985504       0.00573253  0.378448    0.467415   \n",
       " 0.765977    0.911997    0.00117201     0.662265    0.474581    0.159356   \n",
       " 0.186938    0.0358469   0.016828    …  0.77602     0.494312    0.342914   \n",
       " 0.867569    0.958888    0.571536       0.469573    0.240389    0.000666357\n",
       " 0.288629    0.151551    0.84097        0.920693    0.567318    0.122042   \n",
       " 0.00297824  0.900082    0.0120217      0.406033    0.0560073   0.459324   \n",
       " 0.834793    0.22624     0.218984       0.516092    0.191718    0.0861685  \n",
       " 0.172364    0.799068    0.226223    …  0.514816    0.566914    0.287201   \n",
       " 0.106386    0.80337     0.0306987      0.772219    0.269841    0.0804089  \n",
       " 0.195935    0.0703846   0.975813       0.722771    0.00337254  0.516675   \n",
       " ⋮                                   ⋱                                     \n",
       " 0.469265    0.287632    0.911294       0.444039    0.811994    0.186007   \n",
       " 0.238784    0.957753    0.873115       0.442123    0.364632    0.853917   \n",
       " 0.873821    0.734616    0.940437    …  0.0505375   0.0049967   0.896579   \n",
       " 0.556437    0.319813    0.968461       0.561906    0.795756    0.933023   \n",
       " 0.274339    0.340715    0.0243248      0.324038    0.795414    0.873951   \n",
       " 0.7713      0.614405    0.797515       0.664218    0.980461    0.96895    \n",
       " 0.89119     0.302883    0.765231       0.371992    0.670708    0.785143   \n",
       " 0.577287    0.961422    0.293949    …  0.962294    0.214168    0.246113   \n",
       " 0.837924    0.787835    0.67378        0.98554     0.951558    0.833805   \n",
       " 0.856719    0.313485    0.00135764     0.782918    0.313721    0.765313   \n",
       " 0.387415    0.865861    0.941283       0.0110189   0.11354     0.725628   \n",
       " 0.940956    0.00562381  0.365005       0.310852    0.813755    0.759177   "
      ]
     },
     "execution_count": 686,
     "metadata": {},
     "output_type": "execute_result"
    }
   ],
   "source": [
    "test = L*U"
   ]
  },
  {
   "cell_type": "code",
   "execution_count": 687,
   "metadata": {},
   "outputs": [
    {
     "data": {
      "text/plain": [
       "1000×1000 Array{Float64,2}:\n",
       " 0.999999    0.00645665  0.594643    …  0.997571    0.478882    0.659176   \n",
       " 0.0450865   0.999986    0.00663822     0.936424    0.274483    0.425906   \n",
       " 0.00022069  0.938574    0.992378       0.695556    0.354999    0.357924   \n",
       " 0.115103    0.117926    0.985504       0.00573253  0.378448    0.467415   \n",
       " 0.765977    0.911997    0.00117201     0.662265    0.474581    0.159356   \n",
       " 0.186938    0.0358469   0.016828    …  0.77602     0.494312    0.342914   \n",
       " 0.867569    0.958888    0.571536       0.469573    0.240389    0.000666357\n",
       " 0.288629    0.151551    0.84097        0.920693    0.567318    0.122042   \n",
       " 0.00297824  0.900082    0.0120217      0.406033    0.0560073   0.459324   \n",
       " 0.834793    0.22624     0.218984       0.516092    0.191718    0.0861685  \n",
       " 0.172364    0.799068    0.226223    …  0.514816    0.566914    0.287201   \n",
       " 0.106386    0.80337     0.0306987      0.772219    0.269841    0.0804089  \n",
       " 0.195935    0.0703846   0.975813       0.722771    0.00337254  0.516675   \n",
       " ⋮                                   ⋱                                     \n",
       " 0.469265    0.287632    0.911294       0.444039    0.811994    0.186007   \n",
       " 0.238784    0.957753    0.873115       0.442123    0.364632    0.853917   \n",
       " 0.873821    0.734616    0.940437    …  0.0505375   0.0049967   0.896579   \n",
       " 0.556437    0.319813    0.968461       0.561906    0.795756    0.933023   \n",
       " 0.274339    0.340715    0.0243248      0.324038    0.795414    0.873951   \n",
       " 0.7713      0.614405    0.797515       0.664218    0.980461    0.96895    \n",
       " 0.89119     0.302883    0.765231       0.371992    0.670708    0.785143   \n",
       " 0.577287    0.961422    0.293949    …  0.962294    0.214168    0.246113   \n",
       " 0.837924    0.787835    0.67378        0.98554     0.951558    0.833805   \n",
       " 0.856719    0.313485    0.00135764     0.782918    0.313721    0.765313   \n",
       " 0.387415    0.865861    0.941283       0.0110189   0.11354     0.725628   \n",
       " 0.940956    0.00562381  0.365005       0.310852    0.813755    0.759177   "
      ]
     },
     "execution_count": 687,
     "metadata": {},
     "output_type": "execute_result"
    }
   ],
   "source": [
    "A0[p,q]"
   ]
  },
  {
   "cell_type": "code",
   "execution_count": 648,
   "metadata": {},
   "outputs": [
    {
     "data": {
      "text/plain": [
       "10×10 Array{Float64,2}:\n",
       " 0.995686    0.516257     0.150988  …   0.150988    0.516257   0.516257\n",
       " 0.0687269   0.925422     0.239491      0.239491    0.925422   0.925422\n",
       " 0.184358    0.144657     0.84366       0.84366     0.0        0.0     \n",
       " 0.242865    0.348471    -0.116033      0.0         0.0        0.0     \n",
       " 0.578115   -0.00864471   0.708399     -0.600116   -0.229005  -0.229005\n",
       " 0.797416   -0.313937     0.616346  …   0.491747    0.187651   0.187651\n",
       " 0.61217     0.356965     0.285893      0.0899687  -0.219899  -0.219899\n",
       " 0.150988    0.239491     0.84366       0.192113    0.0        0.0     \n",
       " 0.796112    0.011666     0.602397      0.0         0.06996    0.06996 \n",
       " 0.482331    0.128492     0.182417      0.0         0.0        0.0     "
      ]
     },
     "execution_count": 648,
     "metadata": {},
     "output_type": "execute_result"
    }
   ],
   "source": [
    "A"
   ]
  },
  {
   "cell_type": "code",
   "execution_count": 622,
   "metadata": {},
   "outputs": [
    {
     "data": {
      "text/plain": [
       "10-element Array{Int64,1}:\n",
       "  1\n",
       "  9\n",
       "  8\n",
       " 10\n",
       "  7\n",
       "  2\n",
       "  4\n",
       "  6\n",
       "  5\n",
       "  3"
      ]
     },
     "execution_count": 622,
     "metadata": {},
     "output_type": "execute_result"
    }
   ],
   "source": [
    "q"
   ]
  },
  {
   "cell_type": "code",
   "execution_count": 598,
   "metadata": {},
   "outputs": [
    {
     "data": {
      "text/plain": [
       "(8, 5)"
      ]
     },
     "execution_count": 598,
     "metadata": {},
     "output_type": "execute_result"
    }
   ],
   "source": [
    "A = rand(8,5) \n",
    "n,m = size(A)"
   ]
  },
  {
   "cell_type": "code",
   "execution_count": 605,
   "metadata": {},
   "outputs": [
    {
     "data": {
      "text/plain": [
       "(39.12660451781496, 6)"
      ]
     },
     "execution_count": 605,
     "metadata": {},
     "output_type": "execute_result"
    }
   ],
   "source": [
    "k = 3\n",
    "val , ind = findmax(A[k:8,k:5])"
   ]
  },
  {
   "cell_type": "code",
   "execution_count": 606,
   "metadata": {},
   "outputs": [
    {
     "data": {
      "text/plain": [
       "8"
      ]
     },
     "execution_count": 606,
     "metadata": {},
     "output_type": "execute_result"
    }
   ],
   "source": [
    "y = Int(ceil(ind / (n-k+1))) + k-1\n",
    "x = ind % (n-k+1) + k-1\n",
    "if x == k-1\n",
    "    x = n\n",
    "end"
   ]
  },
  {
   "cell_type": "code",
   "execution_count": 607,
   "metadata": {},
   "outputs": [
    {
     "data": {
      "text/plain": [
       "39.12660451781496"
      ]
     },
     "execution_count": 607,
     "metadata": {},
     "output_type": "execute_result"
    }
   ],
   "source": [
    "A[x,y]"
   ]
  },
  {
   "cell_type": "code",
   "execution_count": 602,
   "metadata": {},
   "outputs": [
    {
     "data": {
      "text/plain": [
       "8-element Array{Float64,1}:\n",
       " 0.193184\n",
       " 0.722981\n",
       " 0.399633\n",
       " 0.327136\n",
       " 0.716319\n",
       " 0.956847\n",
       " 0.120801\n",
       " 0.985818"
      ]
     },
     "execution_count": 602,
     "metadata": {},
     "output_type": "execute_result"
    }
   ],
   "source": [
    "A[:,y]"
   ]
  },
  {
   "cell_type": "code",
   "execution_count": 568,
   "metadata": {},
   "outputs": [
    {
     "data": {
      "text/plain": [
       "6"
      ]
     },
     "execution_count": 568,
     "metadata": {},
     "output_type": "execute_result"
    }
   ],
   "source": [
    "n-k+1"
   ]
  },
  {
   "cell_type": "code",
   "execution_count": null,
   "metadata": {
    "collapsed": true
   },
   "outputs": [],
   "source": []
  }
 ],
 "metadata": {
  "kernelspec": {
   "display_name": "Julia 0.6.0",
   "language": "julia",
   "name": "julia-0.6"
  },
  "language_info": {
   "file_extension": ".jl",
   "mimetype": "application/julia",
   "name": "julia",
   "version": "0.6.0"
  }
 },
 "nbformat": 4,
 "nbformat_minor": 2
}
