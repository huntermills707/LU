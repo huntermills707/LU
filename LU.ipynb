{
 "cells": [
  {
   "cell_type": "code",
   "execution_count": 19,
   "metadata": {},
   "outputs": [
    {
     "data": {
      "text/plain": [
       "luDecompNoPiv (generic function with 1 method)"
      ]
     },
     "execution_count": 19,
     "metadata": {},
     "output_type": "execute_result"
    }
   ],
   "source": [
    "function luDecompNoPiv(A)\n",
    "    n,m = size(A)\n",
    "    for k in 1:n-1\n",
    "        A[k+1:n,k] = A[k+1:n,k]/A[k,k]\n",
    "        for i in k+1:n\n",
    "            for j in k+1:n\n",
    "                A[i,j] = A[i,j] - A[i,k]*A[k,j]\n",
    "            end\n",
    "        end\n",
    "    end\n",
    "    return A\n",
    "end"
   ]
  },
  {
   "cell_type": "code",
   "execution_count": 175,
   "metadata": {},
   "outputs": [
    {
     "data": {
      "text/plain": [
       "luDecompParPiv (generic function with 1 method)"
      ]
     },
     "execution_count": 175,
     "metadata": {},
     "output_type": "execute_result"
    }
   ],
   "source": [
    "function luDecompParPiv(A)\n",
    "    n,m = size(A)\n",
    "    p = Array(1:n)\n",
    "    for k in 1:n-1\n",
    "        \n",
    "        val,ind = findmax(A[k:n,k])\n",
    "        ind = ind + k - 1\n",
    "                \n",
    "        swap = p[k]\n",
    "        p[k] = p[ind]\n",
    "        p[ind] = swap\n",
    "        \n",
    "        swap = A[k,:]\n",
    "        A[k,:] = A[ind,:]\n",
    "        A[ind,:] = swap\n",
    "        \n",
    "        A[k+1:n,k] = A[k+1:n,k]/A[k,k]\n",
    "        for i in k+1:n\n",
    "            for j in k+1:n\n",
    "                A[i,j] = A[i,j] - A[i,k]*A[k,j]\n",
    "            end\n",
    "        end\n",
    "    end\n",
    "    return A,p\n",
    "end"
   ]
  },
  {
   "cell_type": "code",
   "execution_count": 3,
   "metadata": {
    "scrolled": true
   },
   "outputs": [
    {
     "data": {
      "text/plain": [
       "luDecompFullPiv (generic function with 1 method)"
      ]
     },
     "execution_count": 3,
     "metadata": {},
     "output_type": "execute_result"
    }
   ],
   "source": [
    "function luDecompFullPiv(A)\n",
    "    n,m = size(A)\n",
    "    p = Array(1:n)\n",
    "    q = Array(1:m)\n",
    "    for k in 1:n-1\n",
    "        \n",
    "        val,ind = findmax(A[k:n,k:n])\n",
    "        y = Int(ceil(ind / (n-k+1))) + k-1\n",
    "        x = ind % (n-k+1) + k-1\n",
    "        if x == k-1\n",
    "            x = n\n",
    "        end\n",
    "                \n",
    "        swap = p[k]\n",
    "        p[k] = p[x]\n",
    "        p[x] = swap\n",
    "        \n",
    "        swap = A[k,:]\n",
    "        A[k,:] = A[x,:]\n",
    "        A[x,:] = swap\n",
    "        \n",
    "        swap = q[k]\n",
    "        q[k] = q[y]\n",
    "        q[y] = swap\n",
    "        \n",
    "        swap = A[:,k]\n",
    "        A[:,k] = A[:,y]\n",
    "        A[:,y] = swap\n",
    "        \n",
    "        A[k+1:n,k] = A[k+1:n,k]/A[k,k]\n",
    "        for i in k+1:n\n",
    "            for j in k+1:n\n",
    "                A[i,j] = A[i,j] - A[i,k]*A[k,j]\n",
    "            end\n",
    "        end\n",
    "    end\n",
    "    return A,p,q\n",
    "end"
   ]
  },
  {
   "cell_type": "code",
   "execution_count": 1,
   "metadata": {},
   "outputs": [
    {
     "data": {
      "text/plain": [
       "luDecompRookPiv (generic function with 1 method)"
      ]
     },
     "execution_count": 1,
     "metadata": {},
     "output_type": "execute_result"
    }
   ],
   "source": [
    "function luDecompRookPiv(A)\n",
    "    n,m = size(A)\n",
    "    p = Array(1:n)\n",
    "    q = Array(1:m)\n",
    "    for k in 1:n-1\n",
    "        \n",
    "        x = k\n",
    "        y = k\n",
    "        t = A[k,k]\n",
    "        s = 0\n",
    "        \n",
    "        while t < maximum(A[k:n,y]) || t < maximum(A[x,k:n])\n",
    "            if s % 2 == 0\n",
    "                val,ind = findmax(A[k:n,y])\n",
    "                x = ind + k - 1\n",
    "            else\n",
    "                val,ind = findmax(A[x,k:n])\n",
    "                y = ind + k - 1\n",
    "            end\n",
    "            t = A[x,y]\n",
    "            s = s + 1\n",
    "        end\n",
    "                \n",
    "        swap = p[k]\n",
    "        p[k] = p[x]\n",
    "        p[x] = swap\n",
    "        \n",
    "        swap = A[k,:]\n",
    "        A[k,:] = A[x,:]\n",
    "        A[x,:] = swap\n",
    "        \n",
    "        swap = q[k]\n",
    "        q[k] = q[y]\n",
    "        q[y] = swap\n",
    "        \n",
    "        swap = A[:,k]\n",
    "        A[:,k] = A[:,y]\n",
    "        A[:,y] = swap\n",
    "        \n",
    "        A[k+1:n,k] = A[k+1:n,k]/A[k,k]\n",
    "        for i in k+1:n\n",
    "            for j in k+1:n\n",
    "                A[i,j] = A[i,j] - A[i,k]*A[k,j]\n",
    "            end\n",
    "        end\n",
    "    end\n",
    "    return A,p,q\n",
    "end"
   ]
  },
  {
   "cell_type": "code",
   "execution_count": 30,
   "metadata": {},
   "outputs": [
    {
     "data": {
      "text/plain": [
       "luDecompScaParPiv (generic function with 1 method)"
      ]
     },
     "execution_count": 30,
     "metadata": {},
     "output_type": "execute_result"
    }
   ],
   "source": [
    "function luDecompScaParPiv(A)\n",
    "    n,m = size(A)\n",
    "    p = Array(1:n)\n",
    "    for k in 1:n-1\n",
    "        scaled = zeros(n-k+1)\n",
    "        for i in k:n\n",
    "            scaled[i-k+1] = A[i,k]/maximum(A[i,k:n])\n",
    "        end\n",
    "        val,ind = findmax(scaled)\n",
    "        ind = ind + k - 1\n",
    "                \n",
    "        swap = p[k]\n",
    "        p[k] = p[ind]\n",
    "        p[ind] = swap\n",
    "        \n",
    "        swap = A[k,:]\n",
    "        A[k,:] = A[ind,:]\n",
    "        A[ind,:] = swap\n",
    "        \n",
    "        A[k+1:n,k] = A[k+1:n,k]/A[k,k]\n",
    "        for i in k+1:n\n",
    "            for j in k+1:n\n",
    "                A[i,j] = A[i,j] - A[i,k]*A[k,j]\n",
    "            end\n",
    "        end\n",
    "    end\n",
    "    return A,p\n",
    "end"
   ]
  },
  {
   "cell_type": "code",
   "execution_count": 45,
   "metadata": {},
   "outputs": [
    {
     "data": {
      "text/plain": [
       "luDecompScaFullPiv (generic function with 1 method)"
      ]
     },
     "execution_count": 45,
     "metadata": {},
     "output_type": "execute_result"
    }
   ],
   "source": [
    "function luDecompScaFullPiv(A)\n",
    "    n,m = size(A)\n",
    "    p = Array(1:n)\n",
    "    q = Array(1:m)\n",
    "    for k in 1:n-1\n",
    "        \n",
    "        B = (A[k:n,k:n] ./ maximum(A[k:n,k:n],1)) ./ maximum(A[k:n,k:n],2)\n",
    "        \n",
    "        val,ind = findmax(B)\n",
    "        y = Int(ceil(ind / (n-k+1))) + k-1\n",
    "        x = ind % (n-k+1) + k-1\n",
    "        if x == k-1\n",
    "            x = n\n",
    "        end\n",
    "                \n",
    "        swap = p[k]\n",
    "        p[k] = p[x]\n",
    "        p[x] = swap\n",
    "        \n",
    "        swap = A[k,:]\n",
    "        A[k,:] = A[x,:]\n",
    "        A[x,:] = swap\n",
    "        \n",
    "        swap = q[k]\n",
    "        q[k] = q[y]\n",
    "        q[y] = swap\n",
    "        \n",
    "        swap = A[:,k]\n",
    "        A[:,k] = A[:,y]\n",
    "        A[:,y] = swap\n",
    "        \n",
    "        A[k+1:n,k] = A[k+1:n,k]/A[k,k]\n",
    "        for i in k+1:n\n",
    "            for j in k+1:n\n",
    "                A[i,j] = A[i,j] - A[i,k]*A[k,j]\n",
    "            end\n",
    "        end\n",
    "    end\n",
    "    return A,p,q\n",
    "end"
   ]
  },
  {
   "cell_type": "code",
   "execution_count": 5,
   "metadata": {},
   "outputs": [
    {
     "data": {
      "text/plain": [
       "luDecompScaRookPiv (generic function with 1 method)"
      ]
     },
     "execution_count": 5,
     "metadata": {},
     "output_type": "execute_result"
    }
   ],
   "source": [
    "function luDecompScaRookPiv(A)\n",
    "    n,m = size(A)\n",
    "    p = Array(1:n)\n",
    "    q = Array(1:m)\n",
    "    for k in 1:n-1\n",
    "        \n",
    "        B = (A[k:n,k:n] ./ maximum(A[k:n,k:n],1)) ./ maximum(A[k:n,k:n],2)\n",
    "        \n",
    "        x = 1\n",
    "        y = 1\n",
    "        t = B[1,1]\n",
    "        s = 0\n",
    "        \n",
    "        while t < maximum(B[:,y]) || t < maximum(B[x,:])\n",
    "            if s % 2 == 0\n",
    "                val,ind = findmax(B[:,y])\n",
    "                x = ind\n",
    "            else\n",
    "                val,ind = findmax(B[x,:])\n",
    "                y = ind\n",
    "            end\n",
    "            t = B[x,y]\n",
    "            s = s + 1\n",
    "        end\n",
    "        \n",
    "        x = x + k -1\n",
    "        y = y + k - 1\n",
    "                \n",
    "        swap = p[k]\n",
    "        p[k] = p[x]\n",
    "        p[x] = swap\n",
    "        \n",
    "        swap = A[k,:]\n",
    "        A[k,:] = A[x,:]\n",
    "        A[x,:] = swap\n",
    "        \n",
    "        swap = q[k]\n",
    "        q[k] = q[y]\n",
    "        q[y] = swap\n",
    "        \n",
    "        swap = A[:,k]\n",
    "        A[:,k] = A[:,y]\n",
    "        A[:,y] = swap\n",
    "        \n",
    "        A[k+1:n,k] = A[k+1:n,k]/A[k,k]\n",
    "        for i in k+1:n\n",
    "            for j in k+1:n\n",
    "                A[i,j] = A[i,j] - A[i,k]*A[k,j]\n",
    "            end\n",
    "        end\n",
    "    end\n",
    "    return A,p,q\n",
    "end"
   ]
  },
  {
   "cell_type": "code",
   "execution_count": 12,
   "metadata": {},
   "outputs": [
    {
     "data": {
      "text/plain": [
       "([0.996488 0.317429 … 0.297928 0.818533; 0.0330155 0.980826 … 0.403776 0.641922; … ; 0.477094 0.101979 … 17.2541 1.59205; 0.338044 0.510589 … 0.485245 -3.27655], [675, 814, 594, 585, 413, 357, 15, 936, 361, 268  …  22, 503, 204, 731, 487, 635, 403, 762, 552, 143], [424, 2, 3, 95, 335, 117, 7, 256, 640, 720  …  976, 678, 583, 667, 995, 453, 819, 233, 738, 758])"
      ]
     },
     "execution_count": 12,
     "metadata": {},
     "output_type": "execute_result"
    }
   ],
   "source": [
    "A = rand(1000,1000)\n",
    "A0 = copy(A)\n",
    "A,p,q = luDecompScaRookPiv(A)"
   ]
  },
  {
   "cell_type": "code",
   "execution_count": 13,
   "metadata": {
    "collapsed": true
   },
   "outputs": [],
   "source": [
    "n,m = size(A)\n",
    "L = eye(n,m)+tril(A,-1)\n",
    "U = triu(A);"
   ]
  },
  {
   "cell_type": "code",
   "execution_count": 14,
   "metadata": {},
   "outputs": [
    {
     "data": {
      "text/plain": [
       "1000×1000 Array{Float64,2}:\n",
       " 0.0  0.0   0.0          0.0   0.0          …   0.0           0.0        \n",
       " 0.0  0.0   0.0          0.0   0.0              0.0           0.0        \n",
       " 0.0  0.0  -1.11022e-16  0.0   0.0              0.0           1.11022e-16\n",
       " 0.0  0.0   0.0          0.0   0.0              0.0           0.0        \n",
       " 0.0  0.0   1.11022e-16  0.0   0.0              0.0           0.0        \n",
       " 0.0  0.0  -1.11022e-16  0.0   0.0          …  -1.11022e-16   0.0        \n",
       " 0.0  0.0   0.0          0.0   0.0              0.0           0.0        \n",
       " 0.0  0.0  -1.11022e-16  0.0   1.11022e-16      0.0           2.22045e-16\n",
       " 0.0  0.0   0.0          0.0   0.0             -1.11022e-16  -1.11022e-16\n",
       " 0.0  0.0   0.0          0.0   0.0              5.55112e-17   2.22045e-16\n",
       " 0.0  0.0   0.0          0.0   1.11022e-16  …   0.0           0.0        \n",
       " 0.0  0.0   0.0          0.0  -6.93889e-18      0.0           2.22045e-16\n",
       " 0.0  0.0   0.0          0.0   5.55112e-17     -1.11022e-16   2.22045e-16\n",
       " ⋮                                          ⋱                            \n",
       " 0.0  0.0   0.0          0.0   0.0              3.10862e-15  -1.4877e-14 \n",
       " 0.0  0.0   0.0          0.0  -5.55112e-17      1.84297e-14  -1.55431e-15\n",
       " 0.0  0.0   0.0          0.0   0.0          …   8.21565e-15   3.55271e-15\n",
       " 0.0  0.0   0.0          0.0  -1.11022e-16      3.77476e-15  -1.82077e-14\n",
       " 0.0  0.0   0.0          0.0   0.0             -9.10383e-15  -3.9968e-15 \n",
       " 0.0  0.0   0.0          0.0   0.0              4.88498e-15   6.66134e-15\n",
       " 0.0  0.0   0.0          0.0   0.0              9.54792e-15  -3.10862e-15\n",
       " 0.0  0.0   0.0          0.0   0.0          …   8.88178e-16  -2.44249e-15\n",
       " 0.0  0.0   0.0          0.0   0.0              5.32907e-15   6.66134e-15\n",
       " 0.0  0.0   0.0          0.0   0.0              2.66454e-15   1.4877e-14 \n",
       " 0.0  0.0   0.0          0.0   1.11022e-16     -5.77316e-15  -4.44089e-16\n",
       " 0.0  0.0   0.0          0.0   0.0              3.9968e-15    4.44089e-15"
      ]
     },
     "execution_count": 14,
     "metadata": {},
     "output_type": "execute_result"
    }
   ],
   "source": [
    "A0[p,q] - L*U"
   ]
  },
  {
   "cell_type": "code",
   "execution_count": 55,
   "metadata": {},
   "outputs": [
    {
     "data": {
      "text/plain": [
       "(0.9696531334863081, 5)"
      ]
     },
     "execution_count": 55,
     "metadata": {},
     "output_type": "execute_result"
    }
   ],
   "source": [
    "B = rand(8,5)\n",
    "findmax(B)"
   ]
  },
  {
   "cell_type": "code",
   "execution_count": 56,
   "metadata": {
    "scrolled": true
   },
   "outputs": [
    {
     "data": {
      "text/plain": [
       "(1.2812824917884578, 30)"
      ]
     },
     "execution_count": 56,
     "metadata": {},
     "output_type": "execute_result"
    }
   ],
   "source": [
    "findmax((B ./ maximum(B,1)) ./ maximum(B,2))"
   ]
  },
  {
   "cell_type": "code",
   "execution_count": 58,
   "metadata": {},
   "outputs": [
    {
     "data": {
      "text/plain": [
       "8×5 Array{Float64,2}:\n",
       " 0.0902665  0.433449  1.02075   0.910535   1.19221 \n",
       " 0.14002    1.01052   0.252813  1.19221    1.19221 \n",
       " 0.79416    0.966959  1.17631   0.0600017  0.125561\n",
       " 1.0313     0.691354  0.702245  0.319072   0.704308\n",
       " 1.0313     1.0313    0.257481  0.903773   0.303994\n",
       " 0.954714   1.25754   0.514409  1.28128    0.240293\n",
       " 0.466015   0.944191  1.17631   0.184953   0.83065 \n",
       " 1.0313     0.448245  0.537587  0.686424   0.432329"
      ]
     },
     "execution_count": 58,
     "metadata": {},
     "output_type": "execute_result"
    }
   ],
   "source": [
    "(B ./ maximum(B,1)) ./ maximum(B,2)"
   ]
  },
  {
   "cell_type": "code",
   "execution_count": 59,
   "metadata": {},
   "outputs": [
    {
     "data": {
      "text/plain": [
       "8×5 Array{Float64,2}:\n",
       " 0.0681076  0.268207  0.675232  0.509851   0.778131 \n",
       " 0.113881   0.674015  0.180271  0.719604   0.838778 \n",
       " 0.607561   0.60667   0.78898   0.0340661  0.0830933\n",
       " 0.793257   0.436107  0.473568  0.182136   0.468623 \n",
       " 0.969653   0.795204  0.212247  0.630622   0.247246 \n",
       " 0.587842   0.634996  0.277689  0.585476   0.127985 \n",
       " 0.384146   0.63829   0.850119  0.113145   0.592304 \n",
       " 0.87453    0.311723  0.399672  0.431977   0.317129 "
      ]
     },
     "execution_count": 59,
     "metadata": {},
     "output_type": "execute_result"
    }
   ],
   "source": [
    "B"
   ]
  },
  {
   "cell_type": "code",
   "execution_count": null,
   "metadata": {
    "collapsed": true
   },
   "outputs": [],
   "source": []
  }
 ],
 "metadata": {
  "kernelspec": {
   "display_name": "Julia 0.6.0",
   "language": "julia",
   "name": "julia-0.6"
  },
  "language_info": {
   "file_extension": ".jl",
   "mimetype": "application/julia",
   "name": "julia",
   "version": "0.6.0"
  }
 },
 "nbformat": 4,
 "nbformat_minor": 2
}
